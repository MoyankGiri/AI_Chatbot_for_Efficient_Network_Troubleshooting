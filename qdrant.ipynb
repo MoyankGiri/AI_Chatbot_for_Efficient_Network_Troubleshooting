{
 "cells": [
  {
   "cell_type": "code",
   "execution_count": 1,
   "metadata": {},
   "outputs": [
    {
     "name": "stdout",
     "output_type": "stream",
     "text": [
      "Requirement already satisfied: langchain in /home/moyankgiri/anaconda3/envs/LLM/lib/python3.10/site-packages (from -r requirements.txt (line 8)) (0.1.13)\n",
      "Requirement already satisfied: qdrant_client in /home/moyankgiri/anaconda3/envs/LLM/lib/python3.10/site-packages (from -r requirements.txt (line 9)) (1.8.0)\n",
      "Requirement already satisfied: tiktoken in /home/moyankgiri/anaconda3/envs/LLM/lib/python3.10/site-packages (from -r requirements.txt (line 10)) (0.6.0)\n",
      "Requirement already satisfied: huggingface_hub in /home/moyankgiri/anaconda3/envs/LLM/lib/python3.10/site-packages (from -r requirements.txt (line 11)) (0.20.3)\n",
      "Requirement already satisfied: accelerate in /home/moyankgiri/anaconda3/envs/LLM/lib/python3.10/site-packages (from -r requirements.txt (line 12)) (0.28.0)\n",
      "Requirement already satisfied: llama-index in /home/moyankgiri/anaconda3/envs/LLM/lib/python3.10/site-packages (from -r requirements.txt (line 13)) (0.10.23)\n",
      "Requirement already satisfied: python-dotenv in /home/moyankgiri/anaconda3/envs/LLM/lib/python3.10/site-packages (from -r requirements.txt (line 14)) (1.0.1)\n",
      "Requirement already satisfied: pypdf in /home/moyankgiri/anaconda3/envs/LLM/lib/python3.10/site-packages (from -r requirements.txt (line 15)) (4.1.0)\n",
      "Requirement already satisfied: sentence-transformers in /home/moyankgiri/anaconda3/envs/LLM/lib/python3.10/site-packages (from -r requirements.txt (line 16)) (2.6.1)\n",
      "Requirement already satisfied: transformers in /home/moyankgiri/anaconda3/envs/LLM/lib/python3.10/site-packages (from -r requirements.txt (line 17)) (4.39.1)\n",
      "Requirement already satisfied: langchain-mistralai in /home/moyankgiri/anaconda3/envs/LLM/lib/python3.10/site-packages (from -r requirements.txt (line 18)) (0.1.0)\n",
      "Requirement already satisfied: llama-index-llms-huggingface in /home/moyankgiri/anaconda3/envs/LLM/lib/python3.10/site-packages (from -r requirements.txt (line 19)) (0.1.4)\n",
      "Requirement already satisfied: PyYAML>=5.3 in /home/moyankgiri/anaconda3/envs/LLM/lib/python3.10/site-packages (from langchain->-r requirements.txt (line 8)) (6.0.1)\n",
      "Requirement already satisfied: SQLAlchemy<3,>=1.4 in /home/moyankgiri/anaconda3/envs/LLM/lib/python3.10/site-packages (from langchain->-r requirements.txt (line 8)) (2.0.29)\n",
      "Requirement already satisfied: aiohttp<4.0.0,>=3.8.3 in /home/moyankgiri/anaconda3/envs/LLM/lib/python3.10/site-packages (from langchain->-r requirements.txt (line 8)) (3.9.3)\n",
      "Requirement already satisfied: async-timeout<5.0.0,>=4.0.0 in /home/moyankgiri/anaconda3/envs/LLM/lib/python3.10/site-packages (from langchain->-r requirements.txt (line 8)) (4.0.3)\n",
      "Requirement already satisfied: dataclasses-json<0.7,>=0.5.7 in /home/moyankgiri/anaconda3/envs/LLM/lib/python3.10/site-packages (from langchain->-r requirements.txt (line 8)) (0.6.4)\n",
      "Requirement already satisfied: jsonpatch<2.0,>=1.33 in /home/moyankgiri/anaconda3/envs/LLM/lib/python3.10/site-packages (from langchain->-r requirements.txt (line 8)) (1.33)\n",
      "Requirement already satisfied: langchain-community<0.1,>=0.0.29 in /home/moyankgiri/anaconda3/envs/LLM/lib/python3.10/site-packages (from langchain->-r requirements.txt (line 8)) (0.0.29)\n",
      "Requirement already satisfied: langchain-core<0.2.0,>=0.1.33 in /home/moyankgiri/anaconda3/envs/LLM/lib/python3.10/site-packages (from langchain->-r requirements.txt (line 8)) (0.1.33)\n",
      "Requirement already satisfied: langchain-text-splitters<0.1,>=0.0.1 in /home/moyankgiri/anaconda3/envs/LLM/lib/python3.10/site-packages (from langchain->-r requirements.txt (line 8)) (0.0.1)\n",
      "Requirement already satisfied: langsmith<0.2.0,>=0.1.17 in /home/moyankgiri/anaconda3/envs/LLM/lib/python3.10/site-packages (from langchain->-r requirements.txt (line 8)) (0.1.31)\n",
      "Requirement already satisfied: numpy<2,>=1 in /home/moyankgiri/anaconda3/envs/LLM/lib/python3.10/site-packages (from langchain->-r requirements.txt (line 8)) (1.26.4)\n",
      "Requirement already satisfied: pydantic<3,>=1 in /home/moyankgiri/anaconda3/envs/LLM/lib/python3.10/site-packages (from langchain->-r requirements.txt (line 8)) (2.6.4)\n",
      "Requirement already satisfied: requests<3,>=2 in /home/moyankgiri/anaconda3/envs/LLM/lib/python3.10/site-packages (from langchain->-r requirements.txt (line 8)) (2.31.0)\n",
      "Requirement already satisfied: tenacity<9.0.0,>=8.1.0 in /home/moyankgiri/anaconda3/envs/LLM/lib/python3.10/site-packages (from langchain->-r requirements.txt (line 8)) (8.2.3)\n",
      "Requirement already satisfied: grpcio>=1.41.0 in /home/moyankgiri/anaconda3/envs/LLM/lib/python3.10/site-packages (from qdrant_client->-r requirements.txt (line 9)) (1.62.1)\n",
      "Requirement already satisfied: grpcio-tools>=1.41.0 in /home/moyankgiri/anaconda3/envs/LLM/lib/python3.10/site-packages (from qdrant_client->-r requirements.txt (line 9)) (1.62.1)\n",
      "Requirement already satisfied: httpx>=0.14.0 in /home/moyankgiri/anaconda3/envs/LLM/lib/python3.10/site-packages (from httpx[http2]>=0.14.0->qdrant_client->-r requirements.txt (line 9)) (0.27.0)\n",
      "Requirement already satisfied: portalocker<3.0.0,>=2.7.0 in /home/moyankgiri/anaconda3/envs/LLM/lib/python3.10/site-packages (from qdrant_client->-r requirements.txt (line 9)) (2.8.2)\n",
      "Requirement already satisfied: urllib3<3,>=1.26.14 in /home/moyankgiri/anaconda3/envs/LLM/lib/python3.10/site-packages (from qdrant_client->-r requirements.txt (line 9)) (2.2.1)\n",
      "Requirement already satisfied: regex>=2022.1.18 in /home/moyankgiri/anaconda3/envs/LLM/lib/python3.10/site-packages (from tiktoken->-r requirements.txt (line 10)) (2023.12.25)\n",
      "Requirement already satisfied: filelock in /home/moyankgiri/.local/lib/python3.10/site-packages (from huggingface_hub->-r requirements.txt (line 11)) (3.13.1)\n",
      "Requirement already satisfied: fsspec>=2023.5.0 in /home/moyankgiri/anaconda3/envs/LLM/lib/python3.10/site-packages (from huggingface_hub->-r requirements.txt (line 11)) (2024.3.1)\n",
      "Requirement already satisfied: tqdm>=4.42.1 in /home/moyankgiri/anaconda3/envs/LLM/lib/python3.10/site-packages (from huggingface_hub->-r requirements.txt (line 11)) (4.66.2)\n",
      "Requirement already satisfied: typing-extensions>=3.7.4.3 in /home/moyankgiri/anaconda3/envs/LLM/lib/python3.10/site-packages (from huggingface_hub->-r requirements.txt (line 11)) (4.10.0)\n",
      "Requirement already satisfied: packaging>=20.9 in /home/moyankgiri/anaconda3/envs/LLM/lib/python3.10/site-packages (from huggingface_hub->-r requirements.txt (line 11)) (23.2)\n",
      "Requirement already satisfied: psutil in /home/moyankgiri/anaconda3/envs/LLM/lib/python3.10/site-packages (from accelerate->-r requirements.txt (line 12)) (5.9.8)\n",
      "Requirement already satisfied: torch>=1.10.0 in /home/moyankgiri/anaconda3/envs/LLM/lib/python3.10/site-packages (from accelerate->-r requirements.txt (line 12)) (2.2.1)\n",
      "Requirement already satisfied: safetensors>=0.3.1 in /home/moyankgiri/anaconda3/envs/LLM/lib/python3.10/site-packages (from accelerate->-r requirements.txt (line 12)) (0.4.2)\n",
      "Requirement already satisfied: llama-index-agent-openai<0.2.0,>=0.1.4 in /home/moyankgiri/anaconda3/envs/LLM/lib/python3.10/site-packages (from llama-index->-r requirements.txt (line 13)) (0.1.7)\n",
      "Requirement already satisfied: llama-index-cli<0.2.0,>=0.1.2 in /home/moyankgiri/anaconda3/envs/LLM/lib/python3.10/site-packages (from llama-index->-r requirements.txt (line 13)) (0.1.11)\n",
      "Requirement already satisfied: llama-index-core<0.11.0,>=0.10.23 in /home/moyankgiri/anaconda3/envs/LLM/lib/python3.10/site-packages (from llama-index->-r requirements.txt (line 13)) (0.10.23.post1)\n",
      "Requirement already satisfied: llama-index-embeddings-openai<0.2.0,>=0.1.5 in /home/moyankgiri/anaconda3/envs/LLM/lib/python3.10/site-packages (from llama-index->-r requirements.txt (line 13)) (0.1.7)\n",
      "Requirement already satisfied: llama-index-indices-managed-llama-cloud<0.2.0,>=0.1.2 in /home/moyankgiri/anaconda3/envs/LLM/lib/python3.10/site-packages (from llama-index->-r requirements.txt (line 13)) (0.1.5)\n",
      "Requirement already satisfied: llama-index-legacy<0.10.0,>=0.9.48 in /home/moyankgiri/anaconda3/envs/LLM/lib/python3.10/site-packages (from llama-index->-r requirements.txt (line 13)) (0.9.48)\n",
      "Requirement already satisfied: llama-index-llms-openai<0.2.0,>=0.1.5 in /home/moyankgiri/anaconda3/envs/LLM/lib/python3.10/site-packages (from llama-index->-r requirements.txt (line 13)) (0.1.12)\n",
      "Requirement already satisfied: llama-index-multi-modal-llms-openai<0.2.0,>=0.1.3 in /home/moyankgiri/anaconda3/envs/LLM/lib/python3.10/site-packages (from llama-index->-r requirements.txt (line 13)) (0.1.4)\n",
      "Requirement already satisfied: llama-index-program-openai<0.2.0,>=0.1.3 in /home/moyankgiri/anaconda3/envs/LLM/lib/python3.10/site-packages (from llama-index->-r requirements.txt (line 13)) (0.1.4)\n",
      "Requirement already satisfied: llama-index-question-gen-openai<0.2.0,>=0.1.2 in /home/moyankgiri/anaconda3/envs/LLM/lib/python3.10/site-packages (from llama-index->-r requirements.txt (line 13)) (0.1.3)\n",
      "Requirement already satisfied: llama-index-readers-file<0.2.0,>=0.1.4 in /home/moyankgiri/anaconda3/envs/LLM/lib/python3.10/site-packages (from llama-index->-r requirements.txt (line 13)) (0.1.12)\n",
      "Requirement already satisfied: llama-index-readers-llama-parse<0.2.0,>=0.1.2 in /home/moyankgiri/anaconda3/envs/LLM/lib/python3.10/site-packages (from llama-index->-r requirements.txt (line 13)) (0.1.4)\n",
      "Requirement already satisfied: scikit-learn in /home/moyankgiri/anaconda3/envs/LLM/lib/python3.10/site-packages (from sentence-transformers->-r requirements.txt (line 16)) (1.4.1.post1)\n",
      "Requirement already satisfied: scipy in /home/moyankgiri/anaconda3/envs/LLM/lib/python3.10/site-packages (from sentence-transformers->-r requirements.txt (line 16)) (1.12.0)\n",
      "Requirement already satisfied: Pillow in /home/moyankgiri/anaconda3/envs/LLM/lib/python3.10/site-packages (from sentence-transformers->-r requirements.txt (line 16)) (10.2.0)\n",
      "Requirement already satisfied: tokenizers<0.19,>=0.14 in /home/moyankgiri/anaconda3/envs/LLM/lib/python3.10/site-packages (from transformers->-r requirements.txt (line 17)) (0.15.2)\n",
      "Requirement already satisfied: httpx-sse<1,>=0.3.1 in /home/moyankgiri/anaconda3/envs/LLM/lib/python3.10/site-packages (from langchain-mistralai->-r requirements.txt (line 18)) (0.4.0)\n",
      "Requirement already satisfied: aiosignal>=1.1.2 in /home/moyankgiri/anaconda3/envs/LLM/lib/python3.10/site-packages (from aiohttp<4.0.0,>=3.8.3->langchain->-r requirements.txt (line 8)) (1.3.1)\n",
      "Requirement already satisfied: attrs>=17.3.0 in /home/moyankgiri/anaconda3/envs/LLM/lib/python3.10/site-packages (from aiohttp<4.0.0,>=3.8.3->langchain->-r requirements.txt (line 8)) (23.2.0)\n",
      "Requirement already satisfied: frozenlist>=1.1.1 in /home/moyankgiri/anaconda3/envs/LLM/lib/python3.10/site-packages (from aiohttp<4.0.0,>=3.8.3->langchain->-r requirements.txt (line 8)) (1.4.1)\n",
      "Requirement already satisfied: multidict<7.0,>=4.5 in /home/moyankgiri/anaconda3/envs/LLM/lib/python3.10/site-packages (from aiohttp<4.0.0,>=3.8.3->langchain->-r requirements.txt (line 8)) (6.0.5)\n",
      "Requirement already satisfied: yarl<2.0,>=1.0 in /home/moyankgiri/anaconda3/envs/LLM/lib/python3.10/site-packages (from aiohttp<4.0.0,>=3.8.3->langchain->-r requirements.txt (line 8)) (1.9.4)\n",
      "Requirement already satisfied: marshmallow<4.0.0,>=3.18.0 in /home/moyankgiri/anaconda3/envs/LLM/lib/python3.10/site-packages (from dataclasses-json<0.7,>=0.5.7->langchain->-r requirements.txt (line 8)) (3.21.1)\n",
      "Requirement already satisfied: typing-inspect<1,>=0.4.0 in /home/moyankgiri/anaconda3/envs/LLM/lib/python3.10/site-packages (from dataclasses-json<0.7,>=0.5.7->langchain->-r requirements.txt (line 8)) (0.9.0)\n",
      "Requirement already satisfied: protobuf<5.0dev,>=4.21.6 in /home/moyankgiri/anaconda3/envs/LLM/lib/python3.10/site-packages (from grpcio-tools>=1.41.0->qdrant_client->-r requirements.txt (line 9)) (4.25.3)\n",
      "Requirement already satisfied: setuptools in /home/moyankgiri/anaconda3/envs/LLM/lib/python3.10/site-packages (from grpcio-tools>=1.41.0->qdrant_client->-r requirements.txt (line 9)) (69.2.0)\n",
      "Requirement already satisfied: anyio in /home/moyankgiri/anaconda3/envs/LLM/lib/python3.10/site-packages (from httpx>=0.14.0->httpx[http2]>=0.14.0->qdrant_client->-r requirements.txt (line 9)) (4.3.0)\n",
      "Requirement already satisfied: certifi in /home/moyankgiri/anaconda3/envs/LLM/lib/python3.10/site-packages (from httpx>=0.14.0->httpx[http2]>=0.14.0->qdrant_client->-r requirements.txt (line 9)) (2024.2.2)\n",
      "Requirement already satisfied: httpcore==1.* in /home/moyankgiri/anaconda3/envs/LLM/lib/python3.10/site-packages (from httpx>=0.14.0->httpx[http2]>=0.14.0->qdrant_client->-r requirements.txt (line 9)) (1.0.4)\n",
      "Requirement already satisfied: idna in /home/moyankgiri/anaconda3/envs/LLM/lib/python3.10/site-packages (from httpx>=0.14.0->httpx[http2]>=0.14.0->qdrant_client->-r requirements.txt (line 9)) (3.6)\n",
      "Requirement already satisfied: sniffio in /home/moyankgiri/anaconda3/envs/LLM/lib/python3.10/site-packages (from httpx>=0.14.0->httpx[http2]>=0.14.0->qdrant_client->-r requirements.txt (line 9)) (1.3.1)\n",
      "Requirement already satisfied: h11<0.15,>=0.13 in /home/moyankgiri/anaconda3/envs/LLM/lib/python3.10/site-packages (from httpcore==1.*->httpx>=0.14.0->httpx[http2]>=0.14.0->qdrant_client->-r requirements.txt (line 9)) (0.14.0)\n",
      "Requirement already satisfied: h2<5,>=3 in /home/moyankgiri/anaconda3/envs/LLM/lib/python3.10/site-packages (from httpx[http2]>=0.14.0->qdrant_client->-r requirements.txt (line 9)) (4.1.0)\n",
      "Requirement already satisfied: jsonpointer>=1.9 in /home/moyankgiri/anaconda3/envs/LLM/lib/python3.10/site-packages (from jsonpatch<2.0,>=1.33->langchain->-r requirements.txt (line 8)) (2.4)\n",
      "Requirement already satisfied: orjson<4.0.0,>=3.9.14 in /home/moyankgiri/anaconda3/envs/LLM/lib/python3.10/site-packages (from langsmith<0.2.0,>=0.1.17->langchain->-r requirements.txt (line 8)) (3.9.15)\n",
      "Requirement already satisfied: deprecated>=1.2.9.3 in /home/moyankgiri/anaconda3/envs/LLM/lib/python3.10/site-packages (from llama-index-core<0.11.0,>=0.10.23->llama-index->-r requirements.txt (line 13)) (1.2.14)\n",
      "Requirement already satisfied: dirtyjson<2.0.0,>=1.0.8 in /home/moyankgiri/anaconda3/envs/LLM/lib/python3.10/site-packages (from llama-index-core<0.11.0,>=0.10.23->llama-index->-r requirements.txt (line 13)) (1.0.8)\n",
      "Requirement already satisfied: llamaindex-py-client<0.2.0,>=0.1.13 in /home/moyankgiri/anaconda3/envs/LLM/lib/python3.10/site-packages (from llama-index-core<0.11.0,>=0.10.23->llama-index->-r requirements.txt (line 13)) (0.1.13)\n",
      "Requirement already satisfied: nest-asyncio<2.0.0,>=1.5.8 in /home/moyankgiri/anaconda3/envs/LLM/lib/python3.10/site-packages (from llama-index-core<0.11.0,>=0.10.23->llama-index->-r requirements.txt (line 13)) (1.6.0)\n",
      "Requirement already satisfied: networkx>=3.0 in /home/moyankgiri/anaconda3/envs/LLM/lib/python3.10/site-packages (from llama-index-core<0.11.0,>=0.10.23->llama-index->-r requirements.txt (line 13)) (3.2.1)\n",
      "Requirement already satisfied: nltk<4.0.0,>=3.8.1 in /home/moyankgiri/anaconda3/envs/LLM/lib/python3.10/site-packages (from llama-index-core<0.11.0,>=0.10.23->llama-index->-r requirements.txt (line 13)) (3.8.1)\n",
      "Requirement already satisfied: openai>=1.1.0 in /home/moyankgiri/anaconda3/envs/LLM/lib/python3.10/site-packages (from llama-index-core<0.11.0,>=0.10.23->llama-index->-r requirements.txt (line 13)) (1.14.3)\n",
      "Requirement already satisfied: pandas in /home/moyankgiri/anaconda3/envs/LLM/lib/python3.10/site-packages (from llama-index-core<0.11.0,>=0.10.23->llama-index->-r requirements.txt (line 13)) (2.2.1)\n",
      "Requirement already satisfied: beautifulsoup4<5.0.0,>=4.12.3 in /home/moyankgiri/anaconda3/envs/LLM/lib/python3.10/site-packages (from llama-index-readers-file<0.2.0,>=0.1.4->llama-index->-r requirements.txt (line 13)) (4.12.3)\n",
      "Requirement already satisfied: bs4<0.0.3,>=0.0.2 in /home/moyankgiri/anaconda3/envs/LLM/lib/python3.10/site-packages (from llama-index-readers-file<0.2.0,>=0.1.4->llama-index->-r requirements.txt (line 13)) (0.0.2)\n",
      "Requirement already satisfied: pymupdf<2.0.0,>=1.23.21 in /home/moyankgiri/anaconda3/envs/LLM/lib/python3.10/site-packages (from llama-index-readers-file<0.2.0,>=0.1.4->llama-index->-r requirements.txt (line 13)) (1.24.0)\n",
      "Requirement already satisfied: striprtf<0.0.27,>=0.0.26 in /home/moyankgiri/anaconda3/envs/LLM/lib/python3.10/site-packages (from llama-index-readers-file<0.2.0,>=0.1.4->llama-index->-r requirements.txt (line 13)) (0.0.26)\n",
      "Requirement already satisfied: llama-parse<0.5.0,>=0.4.0 in /home/moyankgiri/anaconda3/envs/LLM/lib/python3.10/site-packages (from llama-index-readers-llama-parse<0.2.0,>=0.1.2->llama-index->-r requirements.txt (line 13)) (0.4.0)\n",
      "Requirement already satisfied: annotated-types>=0.4.0 in /home/moyankgiri/anaconda3/envs/LLM/lib/python3.10/site-packages (from pydantic<3,>=1->langchain->-r requirements.txt (line 8)) (0.6.0)\n",
      "Requirement already satisfied: pydantic-core==2.16.3 in /home/moyankgiri/anaconda3/envs/LLM/lib/python3.10/site-packages (from pydantic<3,>=1->langchain->-r requirements.txt (line 8)) (2.16.3)\n",
      "Requirement already satisfied: charset-normalizer<4,>=2 in /home/moyankgiri/anaconda3/envs/LLM/lib/python3.10/site-packages (from requests<3,>=2->langchain->-r requirements.txt (line 8)) (3.3.2)\n",
      "Requirement already satisfied: greenlet!=0.4.17 in /home/moyankgiri/anaconda3/envs/LLM/lib/python3.10/site-packages (from SQLAlchemy<3,>=1.4->langchain->-r requirements.txt (line 8)) (3.0.3)\n",
      "Requirement already satisfied: sympy in /home/moyankgiri/anaconda3/envs/LLM/lib/python3.10/site-packages (from torch>=1.10.0->accelerate->-r requirements.txt (line 12)) (1.12)\n",
      "Requirement already satisfied: jinja2 in /home/moyankgiri/anaconda3/envs/LLM/lib/python3.10/site-packages (from torch>=1.10.0->accelerate->-r requirements.txt (line 12)) (3.1.3)\n",
      "Requirement already satisfied: nvidia-cuda-nvrtc-cu12==12.1.105 in /home/moyankgiri/anaconda3/envs/LLM/lib/python3.10/site-packages (from torch>=1.10.0->accelerate->-r requirements.txt (line 12)) (12.1.105)\n",
      "Requirement already satisfied: nvidia-cuda-runtime-cu12==12.1.105 in /home/moyankgiri/anaconda3/envs/LLM/lib/python3.10/site-packages (from torch>=1.10.0->accelerate->-r requirements.txt (line 12)) (12.1.105)\n",
      "Requirement already satisfied: nvidia-cuda-cupti-cu12==12.1.105 in /home/moyankgiri/anaconda3/envs/LLM/lib/python3.10/site-packages (from torch>=1.10.0->accelerate->-r requirements.txt (line 12)) (12.1.105)\n",
      "Requirement already satisfied: nvidia-cudnn-cu12==8.9.2.26 in /home/moyankgiri/anaconda3/envs/LLM/lib/python3.10/site-packages (from torch>=1.10.0->accelerate->-r requirements.txt (line 12)) (8.9.2.26)\n",
      "Requirement already satisfied: nvidia-cublas-cu12==12.1.3.1 in /home/moyankgiri/anaconda3/envs/LLM/lib/python3.10/site-packages (from torch>=1.10.0->accelerate->-r requirements.txt (line 12)) (12.1.3.1)\n",
      "Requirement already satisfied: nvidia-cufft-cu12==11.0.2.54 in /home/moyankgiri/anaconda3/envs/LLM/lib/python3.10/site-packages (from torch>=1.10.0->accelerate->-r requirements.txt (line 12)) (11.0.2.54)\n",
      "Requirement already satisfied: nvidia-curand-cu12==10.3.2.106 in /home/moyankgiri/anaconda3/envs/LLM/lib/python3.10/site-packages (from torch>=1.10.0->accelerate->-r requirements.txt (line 12)) (10.3.2.106)\n",
      "Requirement already satisfied: nvidia-cusolver-cu12==11.4.5.107 in /home/moyankgiri/anaconda3/envs/LLM/lib/python3.10/site-packages (from torch>=1.10.0->accelerate->-r requirements.txt (line 12)) (11.4.5.107)\n",
      "Requirement already satisfied: nvidia-cusparse-cu12==12.1.0.106 in /home/moyankgiri/anaconda3/envs/LLM/lib/python3.10/site-packages (from torch>=1.10.0->accelerate->-r requirements.txt (line 12)) (12.1.0.106)\n",
      "Requirement already satisfied: nvidia-nccl-cu12==2.19.3 in /home/moyankgiri/anaconda3/envs/LLM/lib/python3.10/site-packages (from torch>=1.10.0->accelerate->-r requirements.txt (line 12)) (2.19.3)\n",
      "Requirement already satisfied: nvidia-nvtx-cu12==12.1.105 in /home/moyankgiri/anaconda3/envs/LLM/lib/python3.10/site-packages (from torch>=1.10.0->accelerate->-r requirements.txt (line 12)) (12.1.105)\n",
      "Requirement already satisfied: triton==2.2.0 in /home/moyankgiri/anaconda3/envs/LLM/lib/python3.10/site-packages (from torch>=1.10.0->accelerate->-r requirements.txt (line 12)) (2.2.0)\n",
      "Requirement already satisfied: nvidia-nvjitlink-cu12 in /home/moyankgiri/anaconda3/envs/LLM/lib/python3.10/site-packages (from nvidia-cusolver-cu12==11.4.5.107->torch>=1.10.0->accelerate->-r requirements.txt (line 12)) (12.4.99)\n",
      "Requirement already satisfied: joblib>=1.2.0 in /home/moyankgiri/anaconda3/envs/LLM/lib/python3.10/site-packages (from scikit-learn->sentence-transformers->-r requirements.txt (line 16)) (1.3.2)\n",
      "Requirement already satisfied: threadpoolctl>=2.0.0 in /home/moyankgiri/anaconda3/envs/LLM/lib/python3.10/site-packages (from scikit-learn->sentence-transformers->-r requirements.txt (line 16)) (3.4.0)\n",
      "Requirement already satisfied: exceptiongroup>=1.0.2 in /home/moyankgiri/anaconda3/envs/LLM/lib/python3.10/site-packages (from anyio->httpx>=0.14.0->httpx[http2]>=0.14.0->qdrant_client->-r requirements.txt (line 9)) (1.2.0)\n",
      "Requirement already satisfied: soupsieve>1.2 in /home/moyankgiri/anaconda3/envs/LLM/lib/python3.10/site-packages (from beautifulsoup4<5.0.0,>=4.12.3->llama-index-readers-file<0.2.0,>=0.1.4->llama-index->-r requirements.txt (line 13)) (2.5)\n",
      "Requirement already satisfied: wrapt<2,>=1.10 in /home/moyankgiri/anaconda3/envs/LLM/lib/python3.10/site-packages (from deprecated>=1.2.9.3->llama-index-core<0.11.0,>=0.10.23->llama-index->-r requirements.txt (line 13)) (1.16.0)\n",
      "Requirement already satisfied: hyperframe<7,>=6.0 in /home/moyankgiri/anaconda3/envs/LLM/lib/python3.10/site-packages (from h2<5,>=3->httpx[http2]>=0.14.0->qdrant_client->-r requirements.txt (line 9)) (6.0.1)\n",
      "Requirement already satisfied: hpack<5,>=4.0 in /home/moyankgiri/anaconda3/envs/LLM/lib/python3.10/site-packages (from h2<5,>=3->httpx[http2]>=0.14.0->qdrant_client->-r requirements.txt (line 9)) (4.0.0)\n",
      "Requirement already satisfied: click in /home/moyankgiri/anaconda3/envs/LLM/lib/python3.10/site-packages (from nltk<4.0.0,>=3.8.1->llama-index-core<0.11.0,>=0.10.23->llama-index->-r requirements.txt (line 13)) (8.1.7)\n",
      "Requirement already satisfied: distro<2,>=1.7.0 in /home/moyankgiri/anaconda3/envs/LLM/lib/python3.10/site-packages (from openai>=1.1.0->llama-index-core<0.11.0,>=0.10.23->llama-index->-r requirements.txt (line 13)) (1.9.0)\n",
      "Requirement already satisfied: PyMuPDFb==1.24.0 in /home/moyankgiri/anaconda3/envs/LLM/lib/python3.10/site-packages (from pymupdf<2.0.0,>=1.23.21->llama-index-readers-file<0.2.0,>=0.1.4->llama-index->-r requirements.txt (line 13)) (1.24.0)\n",
      "Requirement already satisfied: mypy-extensions>=0.3.0 in /home/moyankgiri/anaconda3/envs/LLM/lib/python3.10/site-packages (from typing-inspect<1,>=0.4.0->dataclasses-json<0.7,>=0.5.7->langchain->-r requirements.txt (line 8)) (1.0.0)\n",
      "Requirement already satisfied: MarkupSafe>=2.0 in /home/moyankgiri/anaconda3/envs/LLM/lib/python3.10/site-packages (from jinja2->torch>=1.10.0->accelerate->-r requirements.txt (line 12)) (2.1.5)\n",
      "Requirement already satisfied: python-dateutil>=2.8.2 in /home/moyankgiri/anaconda3/envs/LLM/lib/python3.10/site-packages (from pandas->llama-index-core<0.11.0,>=0.10.23->llama-index->-r requirements.txt (line 13)) (2.9.0)\n",
      "Requirement already satisfied: pytz>=2020.1 in /home/moyankgiri/anaconda3/envs/LLM/lib/python3.10/site-packages (from pandas->llama-index-core<0.11.0,>=0.10.23->llama-index->-r requirements.txt (line 13)) (2024.1)\n",
      "Requirement already satisfied: tzdata>=2022.7 in /home/moyankgiri/anaconda3/envs/LLM/lib/python3.10/site-packages (from pandas->llama-index-core<0.11.0,>=0.10.23->llama-index->-r requirements.txt (line 13)) (2024.1)\n",
      "Requirement already satisfied: mpmath>=0.19 in /home/moyankgiri/anaconda3/envs/LLM/lib/python3.10/site-packages (from sympy->torch>=1.10.0->accelerate->-r requirements.txt (line 12)) (1.3.0)\n",
      "Requirement already satisfied: six>=1.5 in /home/moyankgiri/anaconda3/envs/LLM/lib/python3.10/site-packages (from python-dateutil>=2.8.2->pandas->llama-index-core<0.11.0,>=0.10.23->llama-index->-r requirements.txt (line 13)) (1.16.0)\n"
     ]
    }
   ],
   "source": [
    "!pip install -r requirements.txt"
   ]
  },
  {
   "cell_type": "code",
   "execution_count": 2,
   "metadata": {},
   "outputs": [],
   "source": [
    "from langchain.vectorstores import Qdrant\n",
    "from langchain.embeddings import HuggingFaceEmbeddings\n",
    "from langchain.text_splitter import RecursiveCharacterTextSplitter, CharacterTextSplitter\n",
    "from langchain.document_loaders import PyPDFLoader, DirectoryLoader\n",
    "import qdrant_client\n",
    "import os"
   ]
  },
  {
   "cell_type": "code",
   "execution_count": 3,
   "metadata": {},
   "outputs": [],
   "source": [
    "client = qdrant_client.QdrantClient(\n",
    "    \"localhost\", port=6333\n",
    ")"
   ]
  },
  {
   "cell_type": "code",
   "execution_count": 4,
   "metadata": {},
   "outputs": [],
   "source": [
    "vectors_config = qdrant_client.http.models.VectorParams(\n",
    "    size=384,\n",
    "    distance=qdrant_client.http.models.Distance.COSINE\n",
    ")"
   ]
  },
  {
   "cell_type": "code",
   "execution_count": 5,
   "metadata": {},
   "outputs": [
    {
     "data": {
      "text/plain": [
       "True"
      ]
     },
     "execution_count": 5,
     "metadata": {},
     "output_type": "execute_result"
    }
   ],
   "source": [
    "client.recreate_collection(\n",
    "    collection_name=\"IETFDocs\",\n",
    "    vectors_config=vectors_config,\n",
    ")"
   ]
  },
  {
   "cell_type": "code",
   "execution_count": 6,
   "metadata": {},
   "outputs": [
    {
     "name": "stderr",
     "output_type": "stream",
     "text": [
      "/home/moyankgiri/anaconda3/envs/LLM/lib/python3.10/site-packages/tqdm/auto.py:21: TqdmWarning: IProgress not found. Please update jupyter and ipywidgets. See https://ipywidgets.readthedocs.io/en/stable/user_install.html\n",
      "  from .autonotebook import tqdm as notebook_tqdm\n"
     ]
    }
   ],
   "source": [
    "embeddings = HuggingFaceEmbeddings(\n",
    "    model_name=\"sentence-transformers/all-MiniLM-L6-v2\"\n",
    ")"
   ]
  },
  {
   "cell_type": "code",
   "execution_count": 7,
   "metadata": {},
   "outputs": [],
   "source": [
    "def load_documents():\n",
    "    loader = DirectoryLoader('/home/moyankgiri/Desktop/LLM/docs/', glob=\"*.pdf\", loader_cls=PyPDFLoader)\n",
    "    documents = loader.load()\n",
    "    return documents"
   ]
  },
  {
   "cell_type": "code",
   "execution_count": 8,
   "metadata": {},
   "outputs": [],
   "source": [
    "def get_chunks(text):\n",
    "    text_splitter = CharacterTextSplitter(\n",
    "        separator=\"\\n\",\n",
    "        chunk_size=1000,\n",
    "        chunk_overlap=200,\n",
    "        length_function=len\n",
    "    )\n",
    "    chunks = text_splitter.split_documents(text)\n",
    "    return chunks"
   ]
  },
  {
   "cell_type": "code",
   "execution_count": 9,
   "metadata": {},
   "outputs": [],
   "source": [
    "documents = load_documents()\n",
    "text_chunks = get_chunks(documents)"
   ]
  },
  {
   "cell_type": "code",
   "execution_count": 10,
   "metadata": {},
   "outputs": [],
   "source": [
    "qdrant = Qdrant.from_documents(\n",
    "    text_chunks,\n",
    "    embeddings,\n",
    "    location=\"localhost:6333\",\n",
    "    prefer_grpc=True,\n",
    "    collection_name='IETFDocs',\n",
    "    force_recreate=True\n",
    ")"
   ]
  },
  {
   "cell_type": "code",
   "execution_count": 11,
   "metadata": {},
   "outputs": [],
   "source": [
    "from llama_index.core.prompts.prompts import SimpleInputPrompt\n",
    "system_prompt = \"You are a Q&A assistant. Your goal is to answer questions as accurately as possible based on the instructions and context provided.\"\n",
    "# This will wrap the default prompts that are internal to llama-index\n",
    "query_wrapper_prompt = \"<|USER|>{query_str}<|ASSISTANT|>\""
   ]
  },
  {
   "cell_type": "code",
   "execution_count": 12,
   "metadata": {},
   "outputs": [
    {
     "name": "stdout",
     "output_type": "stream",
     "text": [
      "\n",
      "    _|    _|  _|    _|    _|_|_|    _|_|_|  _|_|_|  _|      _|    _|_|_|      _|_|_|_|    _|_|      _|_|_|  _|_|_|_|\n",
      "    _|    _|  _|    _|  _|        _|          _|    _|_|    _|  _|            _|        _|    _|  _|        _|\n",
      "    _|_|_|_|  _|    _|  _|  _|_|  _|  _|_|    _|    _|  _|  _|  _|  _|_|      _|_|_|    _|_|_|_|  _|        _|_|_|\n",
      "    _|    _|  _|    _|  _|    _|  _|    _|    _|    _|    _|_|  _|    _|      _|        _|    _|  _|        _|\n",
      "    _|    _|    _|_|      _|_|_|    _|_|_|  _|_|_|  _|      _|    _|_|_|      _|        _|    _|    _|_|_|  _|_|_|_|\n",
      "\n",
      "    A token is already saved on your machine. Run `huggingface-cli whoami` to get more information or `huggingface-cli logout` if you want to log out.\n",
      "    Setting a new token will erase the existing one.\n",
      "    To login, `huggingface_hub` requires a token generated from https://huggingface.co/settings/tokens .\n",
      "Token is valid (permission: write).\n",
      "Your token has been saved to /home/moyankgiri/.cache/huggingface/token\n",
      "Login successful\n"
     ]
    }
   ],
   "source": [
    "from huggingface_hub import interpreter_login\n",
    "\n",
    "interpreter_login()"
   ]
  },
  {
   "cell_type": "code",
   "execution_count": 13,
   "metadata": {},
   "outputs": [],
   "source": [
    "import torch\n",
    "torch.set_default_device('cuda')"
   ]
  },
  {
   "cell_type": "code",
   "execution_count": 14,
   "metadata": {},
   "outputs": [
    {
     "name": "stderr",
     "output_type": "stream",
     "text": [
      "Loading checkpoint shards: 100%|██████████| 2/2 [00:03<00:00,  1.89s/it]\n"
     ]
    }
   ],
   "source": [
    "# from llama_index.llms.huggingface import HuggingFaceLLM\n",
    "from transformers import AutoTokenizer, AutoModelForCausalLM,pipeline\n",
    "from langchain import HuggingFacePipeline\n",
    "# llm = HuggingFaceLLM(\n",
    "#     generate_kwargs={\"temperature\": 0.1, \"do_sample\": True},\n",
    "#     system_prompt=system_prompt,\n",
    "#     query_wrapper_prompt=query_wrapper_prompt,\n",
    "#     tokenizer_name=\"mistralai/Mistral-7B-Instruct-v0.1\",\n",
    "#     model_name=\"mistralai/Mistral-7B-Instruct-v0.1\",\n",
    "#     device_map=\"auto\",\n",
    "#     model_kwargs={\"torch_dtype\": torch.float16}\n",
    "# )\n",
    "\n",
    "tokenizer = AutoTokenizer.from_pretrained(\"mistralai/Mistral-7B-Instruct-v0.1\")\n",
    "model = AutoModelForCausalLM.from_pretrained(\"mistralai/Mistral-7B-Instruct-v0.1\")\n",
    "pipe = pipeline(\"text-generation\", model=model, tokenizer=tokenizer, max_new_tokens=1000)\n",
    "llm = HuggingFacePipeline(\n",
    "    pipeline = pipe,\n",
    "    model_kwargs={\"torch_dtype\": torch.float16},\n",
    ") "
   ]
  },
  {
   "cell_type": "code",
   "execution_count": 15,
   "metadata": {},
   "outputs": [],
   "source": [
    "def get_vectore_store():\n",
    "    \n",
    "    client = qdrant_client.QdrantClient(\n",
    "        \"localhost\", port=6333\n",
    "    )\n",
    "    \n",
    "    embeddings = HuggingFaceEmbeddings(\n",
    "        model_name=\"sentence-transformers/all-MiniLM-L6-v2\"\n",
    "    )\n",
    "    \n",
    "    vectore_store = Qdrant(\n",
    "        client=client,\n",
    "        collection_name=\"IETFDocs\",\n",
    "        embeddings=embeddings\n",
    "    )\n",
    "    \n",
    "    return vectore_store"
   ]
  },
  {
   "cell_type": "code",
   "execution_count": 16,
   "metadata": {},
   "outputs": [],
   "source": [
    "from langchain.prompts import PromptTemplate\n",
    "\n",
    "template = \"\"\"Use the following pieces of context to answer the question at the end. If you don't know the answer, just say that you don't know, don't try to make up an answer. Keep the answer as concise as possible.\n",
    "{context}\n",
    "Question: {question}\n",
    "Helpful Answer:\"\"\"\n",
    "QA_CHAIN_PROMPT = PromptTemplate.from_template(template)        "
   ]
  },
  {
   "cell_type": "code",
   "execution_count": 17,
   "metadata": {},
   "outputs": [],
   "source": [
    "from langchain.chains import RetrievalQA\n",
    "vectore_store = get_vectore_store()\n",
    "qa = RetrievalQA.from_chain_type(\n",
    "        llm=llm,\n",
    "        chain_type='stuff',\n",
    "        retriever=vectore_store.as_retriever(),\n",
    "        chain_type_kwargs={\"prompt\": QA_CHAIN_PROMPT}\n",
    "    )"
   ]
  },
  {
   "cell_type": "code",
   "execution_count": 18,
   "metadata": {},
   "outputs": [
    {
     "data": {
      "text/plain": [
       "[Document(page_content='RFC 7995                      PDF for RFCs                 December 2016\\nC.3.  PDF Generation Libraries\\n   Because the xml2rfc format is a unique format, software for\\n   converting XML source documents to the various formats will be\\n   needed, including PDF generation.\\n   One promising direction is suggested in\\n   <http://greenbytes.de/tech/webdav/rfc2629xslt/\\n   rfc2629xslt.html#output.pdf.fop>: using XSLT (Extensible Stylesheet\\n   Language Transformations) to generate XSL-FO (XSL Formatting\\n   Objects); XSL-FO is then processed by a FOP (Formatting Objects\\n   Processor) such as Apache FOP.\\n   Several libraries are also available for generating PDF signatures.\\n   The choice of library to use for xml2pdf will depend on many factors:\\n   programming language, quality of implementation, quality of PDF\\n   generated, support, cost, availability, and so forth.\\nC.4.  Typefaces\\n   Various typefaces are available that might satisfy the requirements', metadata={'page': 19, 'source': '/home/moyankgiri/Desktop/LLM/docs/rfc7995.pdf', '_id': '38460b96-c8bc-4fc4-95f3-fd6323e95850', '_collection_name': 'IETFDocs'}),\n",
       " Document(page_content='RFC 7995                      PDF for RFCs                 December 2016\\n1.  Introduction\\n   The RFC Series is evolving, as outlined in [RFC6949].  Future\\n   documents will use a canonical format, XML, with renderings in\\n   various formats, including PDF.\\n   Because PDF has a wide range of capabilities and alternatives, not\\n   all PDFs are \"equal\".  For example, visually similar documents could\\n   consist of scanned or rasterized images, or include text layout\\n   options, hyperlinks, embedded fonts, and digital signatures.  (See\\n   [APP-PDF] for a history of PDF.)\\n   This document explains some of the relevant options and makes\\n   recommendations, for both the RFC Series and Internet-Drafts.\\n   The PDF format and the tools to manipulate it are not as well known\\n   as those for the other RFC formats, at least in the IETF community.\\n   This document discusses some of the processes for creating and using\\n   PDFs using both open source and commercial products.', metadata={'page': 2, 'source': '/home/moyankgiri/Desktop/LLM/docs/rfc7995.pdf', '_id': '11326b25-46d5-4720-81ad-b69a0889e41e', '_collection_name': 'IETFDocs'}),\n",
       " Document(page_content='licensing.\\nC.5.  Other Tools\\n   In addition to generating and viewing PDF, other categories of PDF\\n   tools are available and may be useful both during specification\\n   development and for published RFCs.  These include tools for\\n   comparing two PDFs, checkers that could be used to validate the\\n   results of conversion, reviewing and commentary tools that attach\\n   annotations to PDF files, and digital signature creation and\\n   validation.\\nHansen, et al.                Informational                    [Page 20]', metadata={'page': 19, 'source': '/home/moyankgiri/Desktop/LLM/docs/rfc7995.pdf', '_id': '0f3e24eb-c1ef-4052-bd6e-f0c2419e18fe', '_collection_name': 'IETFDocs'}),\n",
       " Document(page_content='the right ([Page N]).  The text is rendered in a way that is\\n      visually unobtrusive.\\n   o  We should not attempt to replicate in PDF the feature of the HTML\\n      format that includes a dynamic block that displays up-to-date\\n      information on updates, obsoletions, and errata.\\n3.2.  \"Invisible\" Options and Requirements\\n   PDF offers a number of features that improve the utility of PDF files\\n   in a variety of workflows, at the cost of extra effort in the xml2rfc\\n   conversion process; the trade-offs may be different for the\\n   RFC Editor production of RFCs and for Internet-Drafts.\\n3.2.1.  Internal Text Representation\\n   The contents of a PDF file can be represented in many ways.  The PDF\\n   file could be generated:\\n   o  as an image of the visual representation, such as a JPEG image of\\n      the word \"IETF\".  That is, there might be no internal\\n      representation of letters, words, or paragraphs at all.\\n   o  placing individual characters in position on the page, such as', metadata={'page': 9, 'source': '/home/moyankgiri/Desktop/LLM/docs/rfc7995.pdf', '_id': '81a8db0e-d682-4032-a9c6-e5ed714dd5b8', '_collection_name': 'IETFDocs'})]"
      ]
     },
     "execution_count": 18,
     "metadata": {},
     "output_type": "execute_result"
    }
   ],
   "source": [
    "retriever = qdrant.as_retriever()\n",
    "retriever.get_relevant_documents(\"What can the conversion to PDF generate?\")"
   ]
  },
  {
   "cell_type": "code",
   "execution_count": 19,
   "metadata": {},
   "outputs": [
    {
     "name": "stderr",
     "output_type": "stream",
     "text": [
      "/home/moyankgiri/anaconda3/envs/LLM/lib/python3.10/site-packages/langchain_core/_api/deprecation.py:117: LangChainDeprecationWarning: The function `__call__` was deprecated in LangChain 0.1.0 and will be removed in 0.2.0. Use invoke instead.\n",
      "  warn_deprecated(\n",
      "Setting `pad_token_id` to `eos_token_id`:2 for open-end generation.\n"
     ]
    },
    {
     "name": "stdout",
     "output_type": "stream",
     "text": [
      "Use the following pieces of context to answer the question at the end. If you don't know the answer, just say that you don't know, don't try to make up an answer. Keep the answer as concise as possible.\n",
      "RFC 7995                      PDF for RFCs                 December 2016\n",
      "C.3.  PDF Generation Libraries\n",
      "   Because the xml2rfc format is a unique format, software for\n",
      "   converting XML source documents to the various formats will be\n",
      "   needed, including PDF generation.\n",
      "   One promising direction is suggested in\n",
      "   <http://greenbytes.de/tech/webdav/rfc2629xslt/\n",
      "   rfc2629xslt.html#output.pdf.fop>: using XSLT (Extensible Stylesheet\n",
      "   Language Transformations) to generate XSL-FO (XSL Formatting\n",
      "   Objects); XSL-FO is then processed by a FOP (Formatting Objects\n",
      "   Processor) such as Apache FOP.\n",
      "   Several libraries are also available for generating PDF signatures.\n",
      "   The choice of library to use for xml2pdf will depend on many factors:\n",
      "   programming language, quality of implementation, quality of PDF\n",
      "   generated, support, cost, availability, and so forth.\n",
      "C.4.  Typefaces\n",
      "   Various typefaces are available that might satisfy the requirements\n",
      "\n",
      "RFC 7995                      PDF for RFCs                 December 2016\n",
      "1.  Introduction\n",
      "   The RFC Series is evolving, as outlined in [RFC6949].  Future\n",
      "   documents will use a canonical format, XML, with renderings in\n",
      "   various formats, including PDF.\n",
      "   Because PDF has a wide range of capabilities and alternatives, not\n",
      "   all PDFs are \"equal\".  For example, visually similar documents could\n",
      "   consist of scanned or rasterized images, or include text layout\n",
      "   options, hyperlinks, embedded fonts, and digital signatures.  (See\n",
      "   [APP-PDF] for a history of PDF.)\n",
      "   This document explains some of the relevant options and makes\n",
      "   recommendations, for both the RFC Series and Internet-Drafts.\n",
      "   The PDF format and the tools to manipulate it are not as well known\n",
      "   as those for the other RFC formats, at least in the IETF community.\n",
      "   This document discusses some of the processes for creating and using\n",
      "   PDFs using both open source and commercial products.\n",
      "\n",
      "licensing.\n",
      "C.5.  Other Tools\n",
      "   In addition to generating and viewing PDF, other categories of PDF\n",
      "   tools are available and may be useful both during specification\n",
      "   development and for published RFCs.  These include tools for\n",
      "   comparing two PDFs, checkers that could be used to validate the\n",
      "   results of conversion, reviewing and commentary tools that attach\n",
      "   annotations to PDF files, and digital signature creation and\n",
      "   validation.\n",
      "Hansen, et al.                Informational                    [Page 20]\n",
      "\n",
      "the right ([Page N]).  The text is rendered in a way that is\n",
      "      visually unobtrusive.\n",
      "   o  We should not attempt to replicate in PDF the feature of the HTML\n",
      "      format that includes a dynamic block that displays up-to-date\n",
      "      information on updates, obsoletions, and errata.\n",
      "3.2.  \"Invisible\" Options and Requirements\n",
      "   PDF offers a number of features that improve the utility of PDF files\n",
      "   in a variety of workflows, at the cost of extra effort in the xml2rfc\n",
      "   conversion process; the trade-offs may be different for the\n",
      "   RFC Editor production of RFCs and for Internet-Drafts.\n",
      "3.2.1.  Internal Text Representation\n",
      "   The contents of a PDF file can be represented in many ways.  The PDF\n",
      "   file could be generated:\n",
      "   o  as an image of the visual representation, such as a JPEG image of\n",
      "      the word \"IETF\".  That is, there might be no internal\n",
      "      representation of letters, words, or paragraphs at all.\n",
      "   o  placing individual characters in position on the page, such as\n",
      "Question: What can the conversion to PDF generate?\n",
      "Helpful Answer: The conversion to PDF can generate an image of the visual representation, or place individual characters in position on the page.\n"
     ]
    }
   ],
   "source": [
    "result = qa ({ \"query\" : \"What can the conversion to PDF generate?\" },return_only_outputs=True) \n",
    "print(result[\"result\"])   "
   ]
  },
  {
   "cell_type": "code",
   "execution_count": null,
   "metadata": {},
   "outputs": [],
   "source": []
  }
 ],
 "metadata": {
  "kernelspec": {
   "display_name": "llmenv",
   "language": "python",
   "name": "python3"
  },
  "language_info": {
   "codemirror_mode": {
    "name": "ipython",
    "version": 3
   },
   "file_extension": ".py",
   "mimetype": "text/x-python",
   "name": "python",
   "nbconvert_exporter": "python",
   "pygments_lexer": "ipython3",
   "version": "3.10.14"
  }
 },
 "nbformat": 4,
 "nbformat_minor": 2
}
